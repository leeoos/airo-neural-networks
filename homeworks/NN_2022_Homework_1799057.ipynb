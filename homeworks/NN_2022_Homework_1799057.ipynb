{
  "cells": [
    {
      "cell_type": "markdown",
      "metadata": {
        "id": "view-in-github",
        "colab_type": "text"
      },
      "source": [
        "<a href=\"https://colab.research.google.com/github/leeoos/airo-neural-networks/blob/main/homeworks/NN_2022_Homework_1799057.ipynb\" target=\"_parent\"><img src=\"https://colab.research.google.com/assets/colab-badge.svg\" alt=\"Open In Colab\"/></a>"
      ]
    },
    {
      "cell_type": "markdown",
      "metadata": {
        "id": "sdnnRxTNdyW1"
      },
      "source": [
        "# Neural Networks\n",
        "## Homework 1: Implementing advanced activation functions\n",
        "\n",
        "**Name**: *Leonardo Colosi*\n",
        "\n",
        "**Matricola**: *1799057*\n",
        "\n",
        "Upload the completed notebook **one week before the exam date of your choice** on the Google Classrom page."
      ]
    },
    {
      "cell_type": "code",
      "execution_count": null,
      "metadata": {
        "id": "PEr8qV6-nMuL"
      },
      "outputs": [],
      "source": [
        "import torch\n",
        "import torch.nn as nn"
      ]
    },
    {
      "cell_type": "markdown",
      "metadata": {
        "id": "wAEgygyPfO7b"
      },
      "source": [
        "### Objective\n",
        "\n",
        "The purpose of this homework is to implement a new layer inside PyTorch, by properly extending the `nn.Module` object. **Before proceeding**, carefully read the following documentation:\n",
        "\n",
        "+ [nn.Module](https://pytorch.org/docs/stable/generated/torch.nn.Module.html?highlight=module#torch.nn.Module)\n",
        "+ [PyTorch: Custom Module](https://pytorch.org/tutorials/beginner/examples_nn/polynomial_module.html)\n",
        "\n",
        "You can also (optionally) learn more about activation functions by reading the survey in [1]."
      ]
    },
    {
      "cell_type": "markdown",
      "metadata": {
        "id": "sYYk6NnFXqYr"
      },
      "source": [
        "### Introduction: families of activation functions\n",
        "\n",
        "In the course up to now, we have seen the application of the sigmoid, the softmax, and the ReLU. However, many additional activation functions exist [1], with varying strengths and drawbacks.\n",
        "\n",
        "Several of them are designed as variants of the ReLU. The **S-Shaped ReLU** (SReLU) [2] is defined as:\n",
        "\n",
        "$$\n",
        "\\phi(s) = \\begin{cases} t^r + a^r(s - t^r) & \\text{ if } s > t^r \\\\ s & \\text{ if } t^r > s > t^l \\\\ t^l + a^l(s - t^l) & \\text{ if } s < t^l \\end{cases} \\,.\n",
        "$$\n",
        "\n",
        "The four parameters $t^r, a^r, t^l, a^l$ are trained via back-propagation, and they are **different for each unit in the layer**.\n"
      ]
    },
    {
      "cell_type": "markdown",
      "metadata": {
        "id": "5u4aF6Z4maHd"
      },
      "source": [
        "### Exercise 1: implementing an activation function (1 point)\n",
        "\n",
        "Let us start with the simpler **[exponential linear squashing](https://paperswithcode.com/method/elish)** (ELiSH) activation function:\n",
        "\n",
        "$$\n",
        "\\phi(x) = \\begin{cases} \\sigma(x)x & \\text{ if } x \\ge 0 \\\\ \\frac{\\exp(x) - 1}{1 + \\exp(-x)} & \\text{ otherwise} \\end{cases}\n",
        "$$"
      ]
    },
    {
      "cell_type": "markdown",
      "metadata": {
        "id": "TKdIjBuZgc5o"
      },
      "source": [
        "**Exercise 1**: complete the following stub."
      ]
    },
    {
      "cell_type": "code",
      "execution_count": null,
      "metadata": {
        "id": "DfCpFg2xdug_"
      },
      "outputs": [],
      "source": [
        "def elish(x):\n",
        "  # x is a generic torch.Tensor, and this function must compute the ELiSH activation function.\n",
        "  # raise NotImplementedError # TODO: substitute this with your code\n",
        "\n",
        "  # Alternative: use torch.sigmioid\n",
        "  sigmoid = torch.sigmoid(x)\n",
        "  elish_sig = sigmoid * x\n",
        "  elish_exp = sigmoid * (torch.exp(x) -1)\n",
        "\n",
        "\n",
        "  # Build tensor of booleans to check the conndiction\n",
        "  x_gt_eq_zero = x >= 0\n",
        "\n",
        "  # ELisH implementation with torch condictional\n",
        "  output = torch.where(x_gt_eq_zero, elish_sig, elish_exp)\n",
        "\n",
        "  return output"
      ]
    },
    {
      "cell_type": "markdown",
      "metadata": {
        "id": "o8MEZxqbn8vs"
      },
      "source": [
        "**Hints for a correct implementation**:\n",
        "\n",
        "1. There are several ways of implementing an if/else operation like the one above in PyTorch. In general, the simplest implementation of \"*if a then b, else c*\" is `torch.where(a, b, c)` (see the documentation for [torch.where](https://pytorch.org/docs/stable/generated/torch.where.html)). Any working variant is accepted here."
      ]
    },
    {
      "cell_type": "markdown",
      "metadata": {
        "id": "B9a6dBsb_I11"
      },
      "source": [
        "Here is a simple sanity check for the correct implementation:"
      ]
    },
    {
      "cell_type": "code",
      "execution_count": null,
      "metadata": {
        "colab": {
          "base_uri": "https://localhost:8080/"
        },
        "id": "d2rkMj9r_UJG",
        "outputId": "82c27a49-97c7-4957-b5a0-3eecba33b435"
      },
      "outputs": [
        {
          "output_type": "execute_result",
          "data": {
            "text/plain": [
              "tensor([[ 0.1100, -0.1323]])"
            ]
          },
          "metadata": {},
          "execution_count": 3
        }
      ],
      "source": [
        "elish(torch.FloatTensor([[0.2, -0.4]])) # Should be approximately [[0.11, -0.13]]"
      ]
    },
    {
      "cell_type": "markdown",
      "metadata": {
        "id": "uv1-249GftP2"
      },
      "source": [
        "### Exercise 2: some visualization experiments (1 point)"
      ]
    },
    {
      "cell_type": "markdown",
      "metadata": {
        "id": "RWY76mEepSgj"
      },
      "source": [
        "**Exercise 2.1**: plot the ELiSH function in [-5, +5]."
      ]
    },
    {
      "cell_type": "code",
      "execution_count": null,
      "metadata": {
        "colab": {
          "base_uri": "https://localhost:8080/",
          "height": 472
        },
        "id": "jdK0CyscfDtC",
        "outputId": "954de67e-0f60-4399-9f15-7fb0eff91fa8"
      },
      "outputs": [
        {
          "output_type": "display_data",
          "data": {
            "text/plain": [
              "<Figure size 640x480 with 1 Axes>"
            ],
            "image/png": "[encoded data removed]"
          },
          "metadata": {}
        }
      ],
      "source": [
        "import matplotlib.pyplot as plt\n",
        "# TODO: plot the function\n",
        "\n",
        "# Points interval definition\n",
        "x = torch.linspace(-5, 5, 100)\n",
        "y = elish(x)\n",
        "x.requires_grad = True # enableling gradient tracking for later computation\n",
        "\n",
        "# Figure definition\n",
        "plt.title('ELiSH Activation Function')\n",
        "plt.xlabel('x values')\n",
        "plt.ylabel('ELiSH(x)')\n",
        "plt.grid(True)\n",
        "\n",
        "# Calls to detach and numpy are used to convert the PyTorch tensors to NumPy arrays for plotting.\n",
        "plt.plot(x.detach().numpy(), y.detach().numpy())\n",
        "plt.show()"
      ]
    },
    {
      "cell_type": "markdown",
      "metadata": {
        "id": "GnvkoRVAqwg1"
      },
      "source": [
        "**Exercise 2.2**: using the utilities from `torch.autograd` ([torch.autograd](https://pytorch.org/docs/stable/autograd.html)), **compute and plot** the derivative of ELiSH using automatic differentiation."
      ]
    },
    {
      "cell_type": "code",
      "execution_count": null,
      "metadata": {
        "colab": {
          "base_uri": "https://localhost:8080/",
          "height": 472
        },
        "id": "0QJKAtmWf3ZI",
        "outputId": "7ae4e2de-d379-423e-a7f0-4b14a56d8eab"
      },
      "outputs": [
        {
          "output_type": "display_data",
          "data": {
            "text/plain": [
              "<Figure size 640x480 with 1 Axes>"
            ],
            "image/png": "[encoded data removed]"
          },
          "metadata": {}
        }
      ],
      "source": [
        "# TODO: plot the gradient of the ELiSH function\n",
        "\n",
        "# Since elish(x) return a tesor of the ELiSH activation function values at different x points,\n",
        "# summing it will reduce it to a scalar value.\n",
        "y = elish(x).sum()\n",
        "\n",
        "# Compute gradients with respect to x.\n",
        "gradient = torch.autograd.grad(y, x)    # returns a tuple of gradients, one for each input.\n",
        "gradient = gradient[0]  # since we only have one element\n",
        "\n",
        "\n",
        "# Figure definition\n",
        "plt.title('ELiSH Gradien')\n",
        "plt.xlabel('x values')\n",
        "plt.ylabel('grad(ELiSH(x))')\n",
        "plt.grid(True)\n",
        "\n",
        "plt.plot(x.detach().numpy(), gradient.detach().numpy())\n",
        "plt.show()"
      ]
    },
    {
      "cell_type": "markdown",
      "metadata": {
        "id": "Yqnx7jRxf2qy"
      },
      "source": [
        "**Exercise 2.3 (sanity check)**: build a model using the previously defined activation function, and test it on a random mini-batch of data:"
      ]
    },
    {
      "cell_type": "code",
      "execution_count": null,
      "metadata": {
        "colab": {
          "base_uri": "https://localhost:8080/"
        },
        "id": "-YLbAbBYfJ7D",
        "outputId": "047dd041-6878-4b02-dd6f-f3c19924ff20"
      },
      "outputs": [
        {
          "output_type": "stream",
          "name": "stdout",
          "text": [
            "tensor([[ 0.5764],\n",
            "        [ 1.8147],\n",
            "        [ 0.1559],\n",
            "        [ 1.3818],\n",
            "        [-0.1194]])\n"
          ]
        }
      ],
      "source": [
        "# TODO: complete the definition of the model\n",
        "\n",
        "W = torch.rand((10, 1))\n",
        "B = torch.rand((1, 1))\n",
        "\n",
        "# Definition of a Perceptron with random weights and ELiSH as activation function\n",
        "model = lambda X: elish(X@W + B)\n",
        "\n",
        "print(model(torch.randn((5, 10))))"
      ]
    },
    {
      "cell_type": "markdown",
      "metadata": {
        "id": "BKMV_HkD23K_"
      },
      "source": [
        "## Exercise 3: implementing a trainable activation function (2 points)"
      ]
    },
    {
      "cell_type": "markdown",
      "metadata": {
        "id": "Z3PgdzQu3p0L"
      },
      "source": [
        "**Exercise 3:** define a `torch.nn.Module` implementing the SReLU.\n",
        "\n",
        "**Hints for a correct implementation**:\n",
        "* The layer should **only** implement the activation function. Ideally, it will always be used in combination with a fully-connected layer with no activation function.\n",
        "* Think carefully about how you want to initialize the parameters."
      ]
    },
    {
      "cell_type": "code",
      "execution_count": null,
      "metadata": {
        "id": "Z2cvBI9N32SA"
      },
      "outputs": [],
      "source": [
        "class SReLU(nn.Module):\n",
        "  \"\"\"\n",
        "  S-shaped Rectified Linear Unit.\n",
        "  It follows:\n",
        "    f(x) = b^r + w^r(x - b^r)   for x >= b^r,\n",
        "    f(x) = x                    for b^r > x > b^l`,\n",
        "    f(x) = b^l + w^l(x - b^l)   for x <= b^l.\n",
        "  \"\"\"\n",
        "\n",
        "  def __init__(self, units):\n",
        "    # raise NotImplementedError # TODO: implement\n",
        "\n",
        "    # Call super constructor to inherit all the methods and properties from nn.Module:\n",
        "    super(SReLU, self).__init__()\n",
        "    self.units = units\n",
        "\n",
        "    # Weights and Biases initialization for each unit in the layer\n",
        "    # The biases represent the limits of the interval\n",
        "    self.b_l = nn.Parameter(torch.zeros(units), requires_grad=True)   # from 0\n",
        "    self.w_l = nn.Parameter(torch.rand(units), requires_grad=True)\n",
        "    self.b_r = nn.Parameter(torch.ones(units), requires_grad=True)    # to 1\n",
        "    self.w_r = nn.Parameter(torch.rand(units), requires_grad=True)\n",
        "\n",
        "    # Parameters registration\n",
        "    # self.register_parameter('w_l', self.w_l)\n",
        "    # self.register_parameter('w_r', self.w_r)\n",
        "    # self.register_parameter('b_l', self.b_l)\n",
        "    # self.register_parameter('b_r', self.b_r)\n",
        "\n",
        "    # self.total_parameters = int(len(self.w_l)) + int(len(self.w_l))\n",
        "    #                         + int(len(self.b_l)) + int(len(self.b_l))\n",
        "\n",
        "  def forward(self, inputs):\n",
        "    # raise NotImplementedError # TODO: implement\n",
        "\n",
        "    # Set the output to be equal to the input as if b_l < inputs < b_r\n",
        "    output = inputs\n",
        "\n",
        "    # If input >= b^r then apply the right part of SReLU otherwise keep the output as it is\n",
        "    right_input = inputs >= self.b_r\n",
        "    output = torch.where(right_input, (self.b_r + self.w_r*(inputs - self.b_r)), output)\n",
        "\n",
        "    # If input <= b^l then apply the left part of SReLU otherwise keep the output as it is\n",
        "    left_input = inputs <= self.b_l\n",
        "    output = torch.where(right_input, (self.b_l + self.w_l*(inputs - self.b_l)), output)\n",
        "\n",
        "    #print(output)\n",
        "\n",
        "    return output"
      ]
    },
    {
      "cell_type": "markdown",
      "metadata": {
        "id": "2ajdzaIa4-Mt"
      },
      "source": [
        "As a sanity check, initialize a SReLU layer and count the number of parameters:"
      ]
    },
    {
      "cell_type": "code",
      "execution_count": null,
      "metadata": {
        "colab": {
          "base_uri": "https://localhost:8080/"
        },
        "id": "mnATD7hW49sK",
        "outputId": "ec9d15cf-8fe7-4daf-96e9-244a1ad74030"
      },
      "outputs": [
        {
          "output_type": "stream",
          "name": "stdout",
          "text": [
            "8\n"
          ]
        }
      ],
      "source": [
        "# Initialize the layer\n",
        "layer = SReLU(2)\n",
        "\n",
        "# Count the parameters\n",
        "print(sum(_.numel() for _ in layer.parameters())) # Should print 8!"
      ]
    },
    {
      "cell_type": "markdown",
      "metadata": {
        "id": "oW_Lny-j5h6A"
      },
      "source": [
        "## Exercise 4: training a model with trainable activation functions (1 point)"
      ]
    },
    {
      "cell_type": "markdown",
      "metadata": {
        "id": "yC9Ip1qz5-fp"
      },
      "source": [
        "We will use the following dataset from TensorFlow Datasets:\n",
        "https://www.tensorflow.org/datasets/catalog/german_credit_numeric"
      ]
    },
    {
      "cell_type": "code",
      "execution_count": null,
      "metadata": {
        "colab": {
          "base_uri": "https://localhost:8080/",
          "height": 116,
          "referenced_widgets": [
            "86007cc5cf6b454c80dd5a5d788d0674",
            "b9a72002dc5a48f88ec404f68df3ae7a",
            "a938763b13d64f6c843d99083b53f53c",
            "ebd06254d5534e0fb0426c770fb376b9",
            "e2e8bd71294b457b81877bbaeea9b410",
            "8c4f9f52efe1402e8a7e5822817a34ac",
            "923cd601c72b431cb7df94355e4db23a",
            "a6c49721e8ea4092ba0d4a04661dc24f",
            "452eb3a9ce9f4d96b2a5d553e2b4b97b",
            "886124a5142d49b7a54b82a1a0d0d81d",
            "15af58aca45d4b1ebb351723ccdd5a26",
            "d5f8b6bf0f0043cda2a5a9fb5443c682",
            "1c436f74fb4c413b9fec76805f74af87",
            "180105fdefb54b7d874d91a382e1ea05",
            "3110fa2b07f748e9ab790a4c2455c6c3",
            "0f86f5b0ed154aaba208dfe967fb6e1c",
            "6727cf941e8544c988c4f51213bff160",
            "7a679c0d23c04ff7bc9a20020798acca",
            "f4dc0e2561f0412796615c015dde973c",
            "1e13b859923d42c78ff02c09959b47c3",
            "eaa7ff58c4fe4b96adf531046329d9c7",
            "ba9624e2298f49de8eb21492f9eb820d",
            "6f2cfaf080d649aaa71d40610359d862",
            "91601c6e6993403293d3535ff9d21d01",
            "cf8a5bb7bdef4c7abd1294b8d75077e4",
            "258b7e6a7ef74acc8be3544c73d76e6a",
            "a604a4da5e334014bd2372faf5ac2062",
            "a9ecc352df3e4752afc5b2201b922849",
            "15443e0891444e0aa19ae07204698d00",
            "ee70aba47f7e4e16b71d7955e28554e3",
            "daed34aea01f4b94b233e68f6966a6b8",
            "7a9e563668df428ba5694f8f720c7453",
            "f445f316e9c34dcdbcb95b253f8dfaf7",
            "46113c5607184433bbc6bb5dc552cd58",
            "e5c3a2961234405d96d5ef18622f3d2c",
            "4f691a5009b34c138df3f2048e53ce1f",
            "1d196ed48ed145599a739d461392cfcc",
            "30d2d192b4794ce69fb65eeb04335ad5",
            "94ec67d73aaa43f5b285c3950a4da44e",
            "1e6ec37fc0324a2d9923cae08a95d4a8",
            "450c0587bfb54feb86b1da75b17059f9",
            "20c23a14b41541daba170576d357a5d5",
            "3865508f0d944228a46955c6d03a0d98",
            "01f8c09c0fb64293ba67c444abc5852f",
            "5a10d8a3923044729fbae3cefd7c05c8",
            "7b173afa0b6245a1acca30f7a0a2cf0b",
            "37527bec754c4487b0d5abe7099fc6f8",
            "dbc0b353ddaf4534a38cd2344eda3506",
            "ba82b60d7a0e4c52bd02869e1577b9c4",
            "6ce45301f97f4ca08f2cc2393cbeef51",
            "367e89ad208a40bc8a64249759faff92",
            "f1c75e57c0f2499e852a7619165cc590",
            "242308eabd1e4a0bb2c9d63c3762a6ce",
            "e50d5540ef7841e0b29934482c3e212b",
            "4c388f3778f2430d94b4c4a47ba00169"
          ]
        },
        "id": "MdoRIsX66Bww",
        "outputId": "ee4fd06e-8ce8-4887-cd04-c0b4d8fd9030"
      },
      "outputs": [
        {
          "output_type": "stream",
          "name": "stdout",
          "text": [
            "Downloading and preparing dataset 99.61 KiB (download: 99.61 KiB, generated: 58.61 KiB, total: 158.22 KiB) to /root/tensorflow_datasets/german_credit_numeric/1.0.0...\n"
          ]
        },
        {
          "output_type": "display_data",
          "data": {
            "text/plain": [
              "Dl Completed...: 0 url [00:00, ? url/s]"
            ],
            "application/vnd.jupyter.widget-view+json": {
              "version_major": 2,
              "version_minor": 0,
              "model_id": "86007cc5cf6b454c80dd5a5d788d0674"
            }
          },
          "metadata": {}
        },
        {
          "output_type": "display_data",
          "data": {
            "text/plain": [
              "Dl Size...: 0 MiB [00:00, ? MiB/s]"
            ],
            "application/vnd.jupyter.widget-view+json": {
              "version_major": 2,
              "version_minor": 0,
              "model_id": "d5f8b6bf0f0043cda2a5a9fb5443c682"
            }
          },
          "metadata": {}
        },
        {
          "output_type": "display_data",
          "data": {
            "text/plain": [
              "Generating splits...:   0%|          | 0/1 [00:00<?, ? splits/s]"
            ],
            "application/vnd.jupyter.widget-view+json": {
              "version_major": 2,
              "version_minor": 0,
              "model_id": "6f2cfaf080d649aaa71d40610359d862"
            }
          },
          "metadata": {}
        },
        {
          "output_type": "display_data",
          "data": {
            "text/plain": [
              "Generating train examples...:   0%|          | 0/1000 [00:00<?, ? examples/s]"
            ],
            "application/vnd.jupyter.widget-view+json": {
              "version_major": 2,
              "version_minor": 0,
              "model_id": "46113c5607184433bbc6bb5dc552cd58"
            }
          },
          "metadata": {}
        },
        {
          "output_type": "display_data",
          "data": {
            "text/plain": [
              "Shuffling /root/tensorflow_datasets/german_credit_numeric/1.0.0.incompleteYARC8F/german_credit_numeric-train.t…"
            ],
            "application/vnd.jupyter.widget-view+json": {
              "version_major": 2,
              "version_minor": 0,
              "model_id": "5a10d8a3923044729fbae3cefd7c05c8"
            }
          },
          "metadata": {}
        },
        {
          "output_type": "stream",
          "name": "stdout",
          "text": [
            "Dataset german_credit_numeric downloaded and prepared to /root/tensorflow_datasets/german_credit_numeric/1.0.0. Subsequent calls will reuse this data.\n"
          ]
        }
      ],
      "source": [
        "import tensorflow_datasets as tfds\n",
        "train_data = tfds.load('german_credit_numeric', split='train[:75%]', as_supervised=True)\n",
        "test_data = tfds.load('german_credit_numeric', split='train[75%:]', as_supervised=True)"
      ]
    },
    {
      "cell_type": "code",
      "execution_count": null,
      "metadata": {
        "id": "JH2HxGZRceFv"
      },
      "outputs": [],
      "source": [
        "# Train set\n",
        "Xtrain, ytrain = train_data.batch(5000).get_single_element()\n",
        "Xtrain, ytrain = Xtrain.numpy(), ytrain.numpy()\n",
        "\n",
        "# Tets set\n",
        "Xtest, ytest = test_data.batch(5000).get_single_element()\n",
        "Xtest, ytest = Xtest.numpy(), ytest.numpy()"
      ]
    },
    {
      "cell_type": "markdown",
      "metadata": {
        "id": "FK6RdPDQ6K7l"
      },
      "source": [
        "**Exercise 4**: write a `nn.Module` using the previous `SReLU`, and train it on the german_credit_numeric dataset."
      ]
    },
    {
      "cell_type": "code",
      "execution_count": null,
      "metadata": {
        "colab": {
          "base_uri": "https://localhost:8080/"
        },
        "id": "vKnj9-AV6f38",
        "outputId": "75ad81ea-d99c-4b6f-9924-92caa66c99a6"
      },
      "outputs": [
        {
          "output_type": "stream",
          "name": "stdout",
          "text": [
            "Inputs train shape: (750, 24)\n",
            "Labels train shape: (750,)\n",
            "Inputs test shape: (250, 24)\n",
            "Labels test shape: (250,)\n"
          ]
        }
      ],
      "source": [
        "from torch.utils.data import Dataset, TensorDataset\n",
        "from sklearn.preprocessing import StandardScaler, normalize\n",
        "\n",
        "# Check on the tensors shape to be on the safe side\n",
        "print(f'Inputs train shape: {Xtrain.shape}')\n",
        "print(f'Labels train shape: {ytrain.shape}')\n",
        "\n",
        "print(f'Inputs test shape: {Xtest.shape}')\n",
        "print(f'Labels test shape: {ytest.shape}')\n",
        "\n",
        "# Normalization with zero meand and unitary standard deviation\n",
        "Xtrain = StandardScaler().fit_transform(Xtrain)\n",
        "Xtest = StandardScaler().fit_transform(Xtest)\n",
        "#Xtrain = normalize(Xtrain)\n",
        "\n",
        "# Definition of torch Dataset\n",
        "class GermanCreditDataset(Dataset):\n",
        "\n",
        "  def __init__(self, X_in, y_in):\n",
        "    super(GermanCreditDataset, self).__init__()\n",
        "    self.X = torch.Tensor(X_in)\n",
        "    self.y = torch.Tensor(y_in)\n",
        "    self.input_len = self.X.shape[1]\n",
        "\n",
        "\n",
        "  def __getitem__(self, index):\n",
        "    X_out = self.X[index]\n",
        "    y_out = self.y[index]\n",
        "\n",
        "    return X_out, y_out\n",
        "\n",
        "  def __len__(self):\n",
        "    return len(self.X)\n",
        "\n",
        "\n",
        "# Create a pytorch dataloader for batch processing\n",
        "# train_dataset = GermanCreditDataset(Xtrain, ytrain)\n",
        "# train_dataloader = torch.utils.data.DataLoader(train_dataset, batch_size=32, shuffle=True)\n",
        "\n",
        "# test_dataset = GermanCreditDataset(Xtest, ytest)\n",
        "# test_dataloader = torch.utils.data.DataLoader(test_dataset, batch_size=16, shuffle=True)\n",
        "\n",
        "X_train = torch.Tensor(Xtrain)\n",
        "y_train = torch.Tensor(ytrain)\n",
        "\n",
        "train_dataset = torch.utils.data.TensorDataset(X_train, y_train)\n",
        "train_dataloader = torch.utils.data.DataLoader(train_dataset, batch_size=64, shuffle=True)\n",
        "\n",
        "X_test = torch.Tensor(Xtest)\n",
        "y_test = torch.Tensor(ytest)\n",
        "\n",
        "test_dataset = torch.utils.data.TensorDataset(X_test, y_test)\n",
        "test_dataloader = torch.utils.data.DataLoader(test_dataset, batch_size=64, shuffle=True)"
      ]
    },
    {
      "cell_type": "code",
      "execution_count": null,
      "metadata": {
        "id": "Gm_vLl2rDTm2"
      },
      "outputs": [],
      "source": [
        "# TODO: define and train a model\n",
        "\n",
        "class HwModel(nn.Module):\n",
        "\n",
        "  def __init__(self):\n",
        "    super(HwModel, self).__init__()\n",
        "\n",
        "    # model architecture\n",
        "    self.fc1 = nn.Linear(24, 10)\n",
        "    self.srelu1 = SReLU(10)\n",
        "    self.fc2 = nn.Linear(10,4)\n",
        "    self.srelu2 = SReLU(4)\n",
        "    self.fc3 = nn.Linear(4,1)\n",
        "    self.srelu3 = SReLU(1)\n",
        "\n",
        "  def forward(self, input):\n",
        "\n",
        "    # Forward process\n",
        "    output = self.fc1(input)\n",
        "    output = self.srelu1(output)\n",
        "    output = self.fc2(output)\n",
        "    output = self.srelu2(output)\n",
        "    output = self.fc3(output)\n",
        "    output = self.srelu3(output)\n",
        "\n",
        "    return output\n",
        "\n",
        "model = HwModel()"
      ]
    },
    {
      "cell_type": "code",
      "execution_count": null,
      "metadata": {
        "id": "TnRdL5B6L1kg"
      },
      "outputs": [],
      "source": [
        "# Training\n",
        "\n",
        "# Set device for training\n",
        "device = 'cuda' if torch.cuda.is_available() else 'cpu'\n",
        "#print(device) # to be on the safe side\n",
        "\n",
        "model = model.to(device)\n",
        "loss_fn = nn.BCEWithLogitsLoss().to(device)\n",
        "optimizer = torch.optim.Adam(model.parameters(), lr=0.01)\n",
        "\n",
        "EPOCHS = 500\n",
        "\n",
        "for epoch in range(EPOCHS):\n",
        "  avg_loss = 0.\n",
        "  avg_tloss = 0.\n",
        "\n",
        "  model.train(True)\n",
        "  running_loss = 0.0\n",
        "\n",
        "  for i, batch in enumerate(train_dataloader):\n",
        "\n",
        "    # Every data instance is an (input, label) pair\n",
        "    inputs, labels = batch\n",
        "\n",
        "    inputs = inputs.to(device)\n",
        "    labels = labels.to(device)\n",
        "\n",
        "    # Zero your gradients for every batch!\n",
        "    optimizer.zero_grad()\n",
        "\n",
        "    # Make predictions for this batch\n",
        "    outputs = model(inputs)\n",
        "\n",
        "    # reshape the model prediction to remove unwanted 3-rd dimention\n",
        "    # outputs = outputs.reshape(outputs.shape[0], outputs.shape[1])\n",
        "    # outputs = outputs.squeeze()\n",
        "    labels = labels.reshape(outputs.shape[0], outputs.shape[1])\n",
        "\n",
        "    # Compute the loss and its gradients\n",
        "    loss = loss_fn(outputs, labels)\n",
        "    loss.backward()\n",
        "\n",
        "    # Adjust learning weights\n",
        "    optimizer.step()\n",
        "\n",
        "    # Accumulate the losses\n",
        "    running_loss += loss.item()\n",
        "\n",
        "\n",
        "  # We don't need gradients on to do reporting\n",
        "  model.train(False)\n",
        "  running_tloss = 0.0\n",
        "\n",
        "  for j, tbatches in enumerate(test_dataloader):\n",
        "\n",
        "    tinputs, tlabels = tbatches\n",
        "\n",
        "    tinputs = inputs.to(device)\n",
        "    tlabels = labels.to(device)\n",
        "\n",
        "    toutputs = model(tinputs)\n",
        "    # toutputs = toutputs.reshape(toutputs.shape[0], toutputs.shape[1])\n",
        "    # toutputs = toutputs.squeeze()\n",
        "    tlabels = tlabels.reshape(outputs.shape[0], outputs.shape[1])\n",
        "\n",
        "    tloss = loss_fn(toutputs, tlabels)\n",
        "    running_tloss += tloss.item()\n",
        "\n",
        "  # Print average loss for the epoch\n",
        "  # num_of_batches = len(train_dataloader)\n",
        "  avg_loss = running_loss / (i + 1) # loss per batch\n",
        "  avg_tloss = running_tloss / (j + 1)\n",
        "  print(f'  Epoch {epoch} train loss: {avg_loss}, test loss: {avg_tloss}')\n"
      ]
    },
    {
      "cell_type": "markdown",
      "metadata": {
        "id": "m_b9dhJ06gjN"
      },
      "source": [
        "**Optionally**, you can plot the distribution (histogram) of the parameters after training."
      ]
    },
    {
      "cell_type": "code",
      "execution_count": null,
      "metadata": {
        "id": "lMBJAWFe6vOu",
        "colab": {
          "base_uri": "https://localhost:8080/",
          "height": 472
        },
        "outputId": "8add0ea6-e26d-4215-d782-32dc90570c64"
      },
      "outputs": [
        {
          "output_type": "display_data",
          "data": {
            "text/plain": [
              "<Figure size 640x480 with 1 Axes>"
            ],
            "image/png": "[encoded data removed]"
          },
          "metadata": {}
        }
      ],
      "source": [
        "# TODO: plot the histogram\n",
        "import numpy as np\n",
        "\n",
        "# Obtain the parameter values from the trained model\n",
        "parameters = []\n",
        "for param in model.parameters():\n",
        "    parameters.extend(param.flatten().detach().numpy())\n",
        "parameters = np.array(parameters)\n",
        "\n",
        "# Plot the histogram\n",
        "plt.hist(parameters, bins=7)\n",
        "plt.xlabel('Parameter Value')\n",
        "plt.ylabel('Frequency')\n",
        "plt.title('Parameter Distribution')\n",
        "plt.show()"
      ]
    },
    {
      "cell_type": "markdown",
      "metadata": {
        "id": "nX48ZUcI9mFa"
      },
      "source": [
        "## Final checklist\n",
        "1. Carefully check all code. Insert comments when needed. Search for \"TODO\" to see if you forgot something.\n",
        "2. Run everything one final time. *Please do not send us notebooks with errors or cells that are not working.*\n",
        "3. Upload the completed notebook **one week before the exam date of your choice** on the Google Classrom page."
      ]
    },
    {
      "cell_type": "markdown",
      "metadata": {
        "id": "Rl9dZ3HambSz"
      },
      "source": [
        "### References\n",
        "\n",
        "[1] Apicella, A., Donnarumma, F., Isgrò, F. and Prevete, R., 2021. [A survey on modern trainable activation functions](https://arxiv.org/abs/2005.00817).\n",
        "\n",
        "[2] Jin, X., Xu, C., Feng, J., Wei, Y., Xiong, J. and Yan, S., 2016. [Deep learning with s-shaped rectified linear activation units](https://arxiv.org/abs/1512.07030). In Proceedings of the AAAI Conference on Artificial Intelligence (Vol. 30, No. 1)."
      ]
    }
  ],
  "metadata": {
    "colab": {
      "collapsed_sections": [
        "wAEgygyPfO7b",
        "Rl9dZ3HambSz"
      ],
      "provenance": [],
      "include_colab_link": true
    },
    "kernelspec": {
      "display_name": "Python 3",
      "name": "python3"
    },
    "language_info": {
      "codemirror_mode": {
        "name": "ipython",
        "version": 3
      },
      "file_extension": ".py",
      "mimetype": "text/x-python",
      "name": "python",
      "nbconvert_exporter": "python",
      "pygments_lexer": "ipython3",
      "version": "3.10.6"
    },
    "widgets": {
      "application/vnd.jupyter.widget-state+json": {
        "86007cc5cf6b454c80dd5a5d788d0674": {
          "model_module": "@jupyter-widgets/controls",
          "model_name": "HBoxModel",
          "model_module_version": "1.5.0",
          "state": {
            "_dom_classes": [],
            "_model_module": "@jupyter-widgets/controls",
            "_model_module_version": "1.5.0",
            "_model_name": "HBoxModel",
            "_view_count": null,
            "_view_module": "@jupyter-widgets/controls",
            "_view_module_version": "1.5.0",
            "_view_name": "HBoxView",
            "box_style": "",
            "children": [
              "IPY_MODEL_b9a72002dc5a48f88ec404f68df3ae7a",
              "IPY_MODEL_a938763b13d64f6c843d99083b53f53c",
              "IPY_MODEL_ebd06254d5534e0fb0426c770fb376b9"
            ],
            "layout": "IPY_MODEL_e2e8bd71294b457b81877bbaeea9b410"
          }
        },
        "b9a72002dc5a48f88ec404f68df3ae7a": {
          "model_module": "@jupyter-widgets/controls",
          "model_name": "HTMLModel",
          "model_module_version": "1.5.0",
          "state": {
            "_dom_classes": [],
            "_model_module": "@jupyter-widgets/controls",
            "_model_module_version": "1.5.0",
            "_model_name": "HTMLModel",
            "_view_count": null,
            "_view_module": "@jupyter-widgets/controls",
            "_view_module_version": "1.5.0",
            "_view_name": "HTMLView",
            "description": "",
            "description_tooltip": null,
            "layout": "IPY_MODEL_8c4f9f52efe1402e8a7e5822817a34ac",
            "placeholder": "​",
            "style": "IPY_MODEL_923cd601c72b431cb7df94355e4db23a",
            "value": "Dl Completed...: 100%"
          }
        },
        "a938763b13d64f6c843d99083b53f53c": {
          "model_module": "@jupyter-widgets/controls",
          "model_name": "FloatProgressModel",
          "model_module_version": "1.5.0",
          "state": {
            "_dom_classes": [],
            "_model_module": "@jupyter-widgets/controls",
            "_model_module_version": "1.5.0",
            "_model_name": "FloatProgressModel",
            "_view_count": null,
            "_view_module": "@jupyter-widgets/controls",
            "_view_module_version": "1.5.0",
            "_view_name": "ProgressView",
            "bar_style": "success",
            "description": "",
            "description_tooltip": null,
            "layout": "IPY_MODEL_a6c49721e8ea4092ba0d4a04661dc24f",
            "max": 1,
            "min": 0,
            "orientation": "horizontal",
            "style": "IPY_MODEL_452eb3a9ce9f4d96b2a5d553e2b4b97b",
            "value": 1
          }
        },
        "ebd06254d5534e0fb0426c770fb376b9": {
          "model_module": "@jupyter-widgets/controls",
          "model_name": "HTMLModel",
          "model_module_version": "1.5.0",
          "state": {
            "_dom_classes": [],
            "_model_module": "@jupyter-widgets/controls",
            "_model_module_version": "1.5.0",
            "_model_name": "HTMLModel",
            "_view_count": null,
            "_view_module": "@jupyter-widgets/controls",
            "_view_module_version": "1.5.0",
            "_view_name": "HTMLView",
            "description": "",
            "description_tooltip": null,
            "layout": "IPY_MODEL_886124a5142d49b7a54b82a1a0d0d81d",
            "placeholder": "​",
            "style": "IPY_MODEL_15af58aca45d4b1ebb351723ccdd5a26",
            "value": " 1/1 [00:00&lt;00:00,  1.03 url/s]"
          }
        },
        "e2e8bd71294b457b81877bbaeea9b410": {
          "model_module": "@jupyter-widgets/base",
          "model_name": "LayoutModel",
          "model_module_version": "1.2.0",
          "state": {
            "_model_module": "@jupyter-widgets/base",
            "_model_module_version": "1.2.0",
            "_model_name": "LayoutModel",
            "_view_count": null,
            "_view_module": "@jupyter-widgets/base",
            "_view_module_version": "1.2.0",
            "_view_name": "LayoutView",
            "align_content": null,
            "align_items": null,
            "align_self": null,
            "border": null,
            "bottom": null,
            "display": null,
            "flex": null,
            "flex_flow": null,
            "grid_area": null,
            "grid_auto_columns": null,
            "grid_auto_flow": null,
            "grid_auto_rows": null,
            "grid_column": null,
            "grid_gap": null,
            "grid_row": null,
            "grid_template_areas": null,
            "grid_template_columns": null,
            "grid_template_rows": null,
            "height": null,
            "justify_content": null,
            "justify_items": null,
            "left": null,
            "margin": null,
            "max_height": null,
            "max_width": null,
            "min_height": null,
            "min_width": null,
            "object_fit": null,
            "object_position": null,
            "order": null,
            "overflow": null,
            "overflow_x": null,
            "overflow_y": null,
            "padding": null,
            "right": null,
            "top": null,
            "visibility": null,
            "width": null
          }
        },
        "8c4f9f52efe1402e8a7e5822817a34ac": {
          "model_module": "@jupyter-widgets/base",
          "model_name": "LayoutModel",
          "model_module_version": "1.2.0",
          "state": {
            "_model_module": "@jupyter-widgets/base",
            "_model_module_version": "1.2.0",
            "_model_name": "LayoutModel",
            "_view_count": null,
            "_view_module": "@jupyter-widgets/base",
            "_view_module_version": "1.2.0",
            "_view_name": "LayoutView",
            "align_content": null,
            "align_items": null,
            "align_self": null,
            "border": null,
            "bottom": null,
            "display": null,
            "flex": null,
            "flex_flow": null,
            "grid_area": null,
            "grid_auto_columns": null,
            "grid_auto_flow": null,
            "grid_auto_rows": null,
            "grid_column": null,
            "grid_gap": null,
            "grid_row": null,
            "grid_template_areas": null,
            "grid_template_columns": null,
            "grid_template_rows": null,
            "height": null,
            "justify_content": null,
            "justify_items": null,
            "left": null,
            "margin": null,
            "max_height": null,
            "max_width": null,
            "min_height": null,
            "min_width": null,
            "object_fit": null,
            "object_position": null,
            "order": null,
            "overflow": null,
            "overflow_x": null,
            "overflow_y": null,
            "padding": null,
            "right": null,
            "top": null,
            "visibility": null,
            "width": null
          }
        },
        "923cd601c72b431cb7df94355e4db23a": {
          "model_module": "@jupyter-widgets/controls",
          "model_name": "DescriptionStyleModel",
          "model_module_version": "1.5.0",
          "state": {
            "_model_module": "@jupyter-widgets/controls",
            "_model_module_version": "1.5.0",
            "_model_name": "DescriptionStyleModel",
            "_view_count": null,
            "_view_module": "@jupyter-widgets/base",
            "_view_module_version": "1.2.0",
            "_view_name": "StyleView",
            "description_width": ""
          }
        },
        "a6c49721e8ea4092ba0d4a04661dc24f": {
          "model_module": "@jupyter-widgets/base",
          "model_name": "LayoutModel",
          "model_module_version": "1.2.0",
          "state": {
            "_model_module": "@jupyter-widgets/base",
            "_model_module_version": "1.2.0",
            "_model_name": "LayoutModel",
            "_view_count": null,
            "_view_module": "@jupyter-widgets/base",
            "_view_module_version": "1.2.0",
            "_view_name": "LayoutView",
            "align_content": null,
            "align_items": null,
            "align_self": null,
            "border": null,
            "bottom": null,
            "display": null,
            "flex": null,
            "flex_flow": null,
            "grid_area": null,
            "grid_auto_columns": null,
            "grid_auto_flow": null,
            "grid_auto_rows": null,
            "grid_column": null,
            "grid_gap": null,
            "grid_row": null,
            "grid_template_areas": null,
            "grid_template_columns": null,
            "grid_template_rows": null,
            "height": null,
            "justify_content": null,
            "justify_items": null,
            "left": null,
            "margin": null,
            "max_height": null,
            "max_width": null,
            "min_height": null,
            "min_width": null,
            "object_fit": null,
            "object_position": null,
            "order": null,
            "overflow": null,
            "overflow_x": null,
            "overflow_y": null,
            "padding": null,
            "right": null,
            "top": null,
            "visibility": null,
            "width": "20px"
          }
        },
        "452eb3a9ce9f4d96b2a5d553e2b4b97b": {
          "model_module": "@jupyter-widgets/controls",
          "model_name": "ProgressStyleModel",
          "model_module_version": "1.5.0",
          "state": {
            "_model_module": "@jupyter-widgets/controls",
            "_model_module_version": "1.5.0",
            "_model_name": "ProgressStyleModel",
            "_view_count": null,
            "_view_module": "@jupyter-widgets/base",
            "_view_module_version": "1.2.0",
            "_view_name": "StyleView",
            "bar_color": null,
            "description_width": ""
          }
        },
        "886124a5142d49b7a54b82a1a0d0d81d": {
          "model_module": "@jupyter-widgets/base",
          "model_name": "LayoutModel",
          "model_module_version": "1.2.0",
          "state": {
            "_model_module": "@jupyter-widgets/base",
            "_model_module_version": "1.2.0",
            "_model_name": "LayoutModel",
            "_view_count": null,
            "_view_module": "@jupyter-widgets/base",
            "_view_module_version": "1.2.0",
            "_view_name": "LayoutView",
            "align_content": null,
            "align_items": null,
            "align_self": null,
            "border": null,
            "bottom": null,
            "display": null,
            "flex": null,
            "flex_flow": null,
            "grid_area": null,
            "grid_auto_columns": null,
            "grid_auto_flow": null,
            "grid_auto_rows": null,
            "grid_column": null,
            "grid_gap": null,
            "grid_row": null,
            "grid_template_areas": null,
            "grid_template_columns": null,
            "grid_template_rows": null,
            "height": null,
            "justify_content": null,
            "justify_items": null,
            "left": null,
            "margin": null,
            "max_height": null,
            "max_width": null,
            "min_height": null,
            "min_width": null,
            "object_fit": null,
            "object_position": null,
            "order": null,
            "overflow": null,
            "overflow_x": null,
            "overflow_y": null,
            "padding": null,
            "right": null,
            "top": null,
            "visibility": null,
            "width": null
          }
        },
        "15af58aca45d4b1ebb351723ccdd5a26": {
          "model_module": "@jupyter-widgets/controls",
          "model_name": "DescriptionStyleModel",
          "model_module_version": "1.5.0",
          "state": {
            "_model_module": "@jupyter-widgets/controls",
            "_model_module_version": "1.5.0",
            "_model_name": "DescriptionStyleModel",
            "_view_count": null,
            "_view_module": "@jupyter-widgets/base",
            "_view_module_version": "1.2.0",
            "_view_name": "StyleView",
            "description_width": ""
          }
        },
        "d5f8b6bf0f0043cda2a5a9fb5443c682": {
          "model_module": "@jupyter-widgets/controls",
          "model_name": "HBoxModel",
          "model_module_version": "1.5.0",
          "state": {
            "_dom_classes": [],
            "_model_module": "@jupyter-widgets/controls",
            "_model_module_version": "1.5.0",
            "_model_name": "HBoxModel",
            "_view_count": null,
            "_view_module": "@jupyter-widgets/controls",
            "_view_module_version": "1.5.0",
            "_view_name": "HBoxView",
            "box_style": "",
            "children": [
              "IPY_MODEL_1c436f74fb4c413b9fec76805f74af87",
              "IPY_MODEL_180105fdefb54b7d874d91a382e1ea05",
              "IPY_MODEL_3110fa2b07f748e9ab790a4c2455c6c3"
            ],
            "layout": "IPY_MODEL_0f86f5b0ed154aaba208dfe967fb6e1c"
          }
        },
        "1c436f74fb4c413b9fec76805f74af87": {
          "model_module": "@jupyter-widgets/controls",
          "model_name": "HTMLModel",
          "model_module_version": "1.5.0",
          "state": {
            "_dom_classes": [],
            "_model_module": "@jupyter-widgets/controls",
            "_model_module_version": "1.5.0",
            "_model_name": "HTMLModel",
            "_view_count": null,
            "_view_module": "@jupyter-widgets/controls",
            "_view_module_version": "1.5.0",
            "_view_name": "HTMLView",
            "description": "",
            "description_tooltip": null,
            "layout": "IPY_MODEL_6727cf941e8544c988c4f51213bff160",
            "placeholder": "​",
            "style": "IPY_MODEL_7a679c0d23c04ff7bc9a20020798acca",
            "value": "Dl Size...: "
          }
        },
        "180105fdefb54b7d874d91a382e1ea05": {
          "model_module": "@jupyter-widgets/controls",
          "model_name": "FloatProgressModel",
          "model_module_version": "1.5.0",
          "state": {
            "_dom_classes": [],
            "_model_module": "@jupyter-widgets/controls",
            "_model_module_version": "1.5.0",
            "_model_name": "FloatProgressModel",
            "_view_count": null,
            "_view_module": "@jupyter-widgets/controls",
            "_view_module_version": "1.5.0",
            "_view_name": "ProgressView",
            "bar_style": "success",
            "description": "",
            "description_tooltip": null,
            "layout": "IPY_MODEL_f4dc0e2561f0412796615c015dde973c",
            "max": 1,
            "min": 0,
            "orientation": "horizontal",
            "style": "IPY_MODEL_1e13b859923d42c78ff02c09959b47c3",
            "value": 0
          }
        },
        "3110fa2b07f748e9ab790a4c2455c6c3": {
          "model_module": "@jupyter-widgets/controls",
          "model_name": "HTMLModel",
          "model_module_version": "1.5.0",
          "state": {
            "_dom_classes": [],
            "_model_module": "@jupyter-widgets/controls",
            "_model_module_version": "1.5.0",
            "_model_name": "HTMLModel",
            "_view_count": null,
            "_view_module": "@jupyter-widgets/controls",
            "_view_module_version": "1.5.0",
            "_view_name": "HTMLView",
            "description": "",
            "description_tooltip": null,
            "layout": "IPY_MODEL_eaa7ff58c4fe4b96adf531046329d9c7",
            "placeholder": "​",
            "style": "IPY_MODEL_ba9624e2298f49de8eb21492f9eb820d",
            "value": " 0/0 [00:00&lt;?, ? MiB/s]"
          }
        },
        "0f86f5b0ed154aaba208dfe967fb6e1c": {
          "model_module": "@jupyter-widgets/base",
          "model_name": "LayoutModel",
          "model_module_version": "1.2.0",
          "state": {
            "_model_module": "@jupyter-widgets/base",
            "_model_module_version": "1.2.0",
            "_model_name": "LayoutModel",
            "_view_count": null,
            "_view_module": "@jupyter-widgets/base",
            "_view_module_version": "1.2.0",
            "_view_name": "LayoutView",
            "align_content": null,
            "align_items": null,
            "align_self": null,
            "border": null,
            "bottom": null,
            "display": null,
            "flex": null,
            "flex_flow": null,
            "grid_area": null,
            "grid_auto_columns": null,
            "grid_auto_flow": null,
            "grid_auto_rows": null,
            "grid_column": null,
            "grid_gap": null,
            "grid_row": null,
            "grid_template_areas": null,
            "grid_template_columns": null,
            "grid_template_rows": null,
            "height": null,
            "justify_content": null,
            "justify_items": null,
            "left": null,
            "margin": null,
            "max_height": null,
            "max_width": null,
            "min_height": null,
            "min_width": null,
            "object_fit": null,
            "object_position": null,
            "order": null,
            "overflow": null,
            "overflow_x": null,
            "overflow_y": null,
            "padding": null,
            "right": null,
            "top": null,
            "visibility": null,
            "width": null
          }
        },
        "6727cf941e8544c988c4f51213bff160": {
          "model_module": "@jupyter-widgets/base",
          "model_name": "LayoutModel",
          "model_module_version": "1.2.0",
          "state": {
            "_model_module": "@jupyter-widgets/base",
            "_model_module_version": "1.2.0",
            "_model_name": "LayoutModel",
            "_view_count": null,
            "_view_module": "@jupyter-widgets/base",
            "_view_module_version": "1.2.0",
            "_view_name": "LayoutView",
            "align_content": null,
            "align_items": null,
            "align_self": null,
            "border": null,
            "bottom": null,
            "display": null,
            "flex": null,
            "flex_flow": null,
            "grid_area": null,
            "grid_auto_columns": null,
            "grid_auto_flow": null,
            "grid_auto_rows": null,
            "grid_column": null,
            "grid_gap": null,
            "grid_row": null,
            "grid_template_areas": null,
            "grid_template_columns": null,
            "grid_template_rows": null,
            "height": null,
            "justify_content": null,
            "justify_items": null,
            "left": null,
            "margin": null,
            "max_height": null,
            "max_width": null,
            "min_height": null,
            "min_width": null,
            "object_fit": null,
            "object_position": null,
            "order": null,
            "overflow": null,
            "overflow_x": null,
            "overflow_y": null,
            "padding": null,
            "right": null,
            "top": null,
            "visibility": null,
            "width": null
          }
        },
        "7a679c0d23c04ff7bc9a20020798acca": {
          "model_module": "@jupyter-widgets/controls",
          "model_name": "DescriptionStyleModel",
          "model_module_version": "1.5.0",
          "state": {
            "_model_module": "@jupyter-widgets/controls",
            "_model_module_version": "1.5.0",
            "_model_name": "DescriptionStyleModel",
            "_view_count": null,
            "_view_module": "@jupyter-widgets/base",
            "_view_module_version": "1.2.0",
            "_view_name": "StyleView",
            "description_width": ""
          }
        },
        "f4dc0e2561f0412796615c015dde973c": {
          "model_module": "@jupyter-widgets/base",
          "model_name": "LayoutModel",
          "model_module_version": "1.2.0",
          "state": {
            "_model_module": "@jupyter-widgets/base",
            "_model_module_version": "1.2.0",
            "_model_name": "LayoutModel",
            "_view_count": null,
            "_view_module": "@jupyter-widgets/base",
            "_view_module_version": "1.2.0",
            "_view_name": "LayoutView",
            "align_content": null,
            "align_items": null,
            "align_self": null,
            "border": null,
            "bottom": null,
            "display": null,
            "flex": null,
            "flex_flow": null,
            "grid_area": null,
            "grid_auto_columns": null,
            "grid_auto_flow": null,
            "grid_auto_rows": null,
            "grid_column": null,
            "grid_gap": null,
            "grid_row": null,
            "grid_template_areas": null,
            "grid_template_columns": null,
            "grid_template_rows": null,
            "height": null,
            "justify_content": null,
            "justify_items": null,
            "left": null,
            "margin": null,
            "max_height": null,
            "max_width": null,
            "min_height": null,
            "min_width": null,
            "object_fit": null,
            "object_position": null,
            "order": null,
            "overflow": null,
            "overflow_x": null,
            "overflow_y": null,
            "padding": null,
            "right": null,
            "top": null,
            "visibility": null,
            "width": "20px"
          }
        },
        "1e13b859923d42c78ff02c09959b47c3": {
          "model_module": "@jupyter-widgets/controls",
          "model_name": "ProgressStyleModel",
          "model_module_version": "1.5.0",
          "state": {
            "_model_module": "@jupyter-widgets/controls",
            "_model_module_version": "1.5.0",
            "_model_name": "ProgressStyleModel",
            "_view_count": null,
            "_view_module": "@jupyter-widgets/base",
            "_view_module_version": "1.2.0",
            "_view_name": "StyleView",
            "bar_color": null,
            "description_width": ""
          }
        },
        "eaa7ff58c4fe4b96adf531046329d9c7": {
          "model_module": "@jupyter-widgets/base",
          "model_name": "LayoutModel",
          "model_module_version": "1.2.0",
          "state": {
            "_model_module": "@jupyter-widgets/base",
            "_model_module_version": "1.2.0",
            "_model_name": "LayoutModel",
            "_view_count": null,
            "_view_module": "@jupyter-widgets/base",
            "_view_module_version": "1.2.0",
            "_view_name": "LayoutView",
            "align_content": null,
            "align_items": null,
            "align_self": null,
            "border": null,
            "bottom": null,
            "display": null,
            "flex": null,
            "flex_flow": null,
            "grid_area": null,
            "grid_auto_columns": null,
            "grid_auto_flow": null,
            "grid_auto_rows": null,
            "grid_column": null,
            "grid_gap": null,
            "grid_row": null,
            "grid_template_areas": null,
            "grid_template_columns": null,
            "grid_template_rows": null,
            "height": null,
            "justify_content": null,
            "justify_items": null,
            "left": null,
            "margin": null,
            "max_height": null,
            "max_width": null,
            "min_height": null,
            "min_width": null,
            "object_fit": null,
            "object_position": null,
            "order": null,
            "overflow": null,
            "overflow_x": null,
            "overflow_y": null,
            "padding": null,
            "right": null,
            "top": null,
            "visibility": null,
            "width": null
          }
        },
        "ba9624e2298f49de8eb21492f9eb820d": {
          "model_module": "@jupyter-widgets/controls",
          "model_name": "DescriptionStyleModel",
          "model_module_version": "1.5.0",
          "state": {
            "_model_module": "@jupyter-widgets/controls",
            "_model_module_version": "1.5.0",
            "_model_name": "DescriptionStyleModel",
            "_view_count": null,
            "_view_module": "@jupyter-widgets/base",
            "_view_module_version": "1.2.0",
            "_view_name": "StyleView",
            "description_width": ""
          }
        },
        "6f2cfaf080d649aaa71d40610359d862": {
          "model_module": "@jupyter-widgets/controls",
          "model_name": "HBoxModel",
          "model_module_version": "1.5.0",
          "state": {
            "_dom_classes": [],
            "_model_module": "@jupyter-widgets/controls",
            "_model_module_version": "1.5.0",
            "_model_name": "HBoxModel",
            "_view_count": null,
            "_view_module": "@jupyter-widgets/controls",
            "_view_module_version": "1.5.0",
            "_view_name": "HBoxView",
            "box_style": "",
            "children": [
              "IPY_MODEL_91601c6e6993403293d3535ff9d21d01",
              "IPY_MODEL_cf8a5bb7bdef4c7abd1294b8d75077e4",
              "IPY_MODEL_258b7e6a7ef74acc8be3544c73d76e6a"
            ],
            "layout": "IPY_MODEL_a604a4da5e334014bd2372faf5ac2062"
          }
        },
        "91601c6e6993403293d3535ff9d21d01": {
          "model_module": "@jupyter-widgets/controls",
          "model_name": "HTMLModel",
          "model_module_version": "1.5.0",
          "state": {
            "_dom_classes": [],
            "_model_module": "@jupyter-widgets/controls",
            "_model_module_version": "1.5.0",
            "_model_name": "HTMLModel",
            "_view_count": null,
            "_view_module": "@jupyter-widgets/controls",
            "_view_module_version": "1.5.0",
            "_view_name": "HTMLView",
            "description": "",
            "description_tooltip": null,
            "layout": "IPY_MODEL_a9ecc352df3e4752afc5b2201b922849",
            "placeholder": "​",
            "style": "IPY_MODEL_15443e0891444e0aa19ae07204698d00",
            "value": "Generating splits...: 100%"
          }
        },
        "cf8a5bb7bdef4c7abd1294b8d75077e4": {
          "model_module": "@jupyter-widgets/controls",
          "model_name": "FloatProgressModel",
          "model_module_version": "1.5.0",
          "state": {
            "_dom_classes": [],
            "_model_module": "@jupyter-widgets/controls",
            "_model_module_version": "1.5.0",
            "_model_name": "FloatProgressModel",
            "_view_count": null,
            "_view_module": "@jupyter-widgets/controls",
            "_view_module_version": "1.5.0",
            "_view_name": "ProgressView",
            "bar_style": "",
            "description": "",
            "description_tooltip": null,
            "layout": "IPY_MODEL_ee70aba47f7e4e16b71d7955e28554e3",
            "max": 1,
            "min": 0,
            "orientation": "horizontal",
            "style": "IPY_MODEL_daed34aea01f4b94b233e68f6966a6b8",
            "value": 1
          }
        },
        "258b7e6a7ef74acc8be3544c73d76e6a": {
          "model_module": "@jupyter-widgets/controls",
          "model_name": "HTMLModel",
          "model_module_version": "1.5.0",
          "state": {
            "_dom_classes": [],
            "_model_module": "@jupyter-widgets/controls",
            "_model_module_version": "1.5.0",
            "_model_name": "HTMLModel",
            "_view_count": null,
            "_view_module": "@jupyter-widgets/controls",
            "_view_module_version": "1.5.0",
            "_view_name": "HTMLView",
            "description": "",
            "description_tooltip": null,
            "layout": "IPY_MODEL_7a9e563668df428ba5694f8f720c7453",
            "placeholder": "​",
            "style": "IPY_MODEL_f445f316e9c34dcdbcb95b253f8dfaf7",
            "value": " 1/1 [00:00&lt;00:00,  3.24 splits/s]"
          }
        },
        "a604a4da5e334014bd2372faf5ac2062": {
          "model_module": "@jupyter-widgets/base",
          "model_name": "LayoutModel",
          "model_module_version": "1.2.0",
          "state": {
            "_model_module": "@jupyter-widgets/base",
            "_model_module_version": "1.2.0",
            "_model_name": "LayoutModel",
            "_view_count": null,
            "_view_module": "@jupyter-widgets/base",
            "_view_module_version": "1.2.0",
            "_view_name": "LayoutView",
            "align_content": null,
            "align_items": null,
            "align_self": null,
            "border": null,
            "bottom": null,
            "display": null,
            "flex": null,
            "flex_flow": null,
            "grid_area": null,
            "grid_auto_columns": null,
            "grid_auto_flow": null,
            "grid_auto_rows": null,
            "grid_column": null,
            "grid_gap": null,
            "grid_row": null,
            "grid_template_areas": null,
            "grid_template_columns": null,
            "grid_template_rows": null,
            "height": null,
            "justify_content": null,
            "justify_items": null,
            "left": null,
            "margin": null,
            "max_height": null,
            "max_width": null,
            "min_height": null,
            "min_width": null,
            "object_fit": null,
            "object_position": null,
            "order": null,
            "overflow": null,
            "overflow_x": null,
            "overflow_y": null,
            "padding": null,
            "right": null,
            "top": null,
            "visibility": "hidden",
            "width": null
          }
        },
        "a9ecc352df3e4752afc5b2201b922849": {
          "model_module": "@jupyter-widgets/base",
          "model_name": "LayoutModel",
          "model_module_version": "1.2.0",
          "state": {
            "_model_module": "@jupyter-widgets/base",
            "_model_module_version": "1.2.0",
            "_model_name": "LayoutModel",
            "_view_count": null,
            "_view_module": "@jupyter-widgets/base",
            "_view_module_version": "1.2.0",
            "_view_name": "LayoutView",
            "align_content": null,
            "align_items": null,
            "align_self": null,
            "border": null,
            "bottom": null,
            "display": null,
            "flex": null,
            "flex_flow": null,
            "grid_area": null,
            "grid_auto_columns": null,
            "grid_auto_flow": null,
            "grid_auto_rows": null,
            "grid_column": null,
            "grid_gap": null,
            "grid_row": null,
            "grid_template_areas": null,
            "grid_template_columns": null,
            "grid_template_rows": null,
            "height": null,
            "justify_content": null,
            "justify_items": null,
            "left": null,
            "margin": null,
            "max_height": null,
            "max_width": null,
            "min_height": null,
            "min_width": null,
            "object_fit": null,
            "object_position": null,
            "order": null,
            "overflow": null,
            "overflow_x": null,
            "overflow_y": null,
            "padding": null,
            "right": null,
            "top": null,
            "visibility": null,
            "width": null
          }
        },
        "15443e0891444e0aa19ae07204698d00": {
          "model_module": "@jupyter-widgets/controls",
          "model_name": "DescriptionStyleModel",
          "model_module_version": "1.5.0",
          "state": {
            "_model_module": "@jupyter-widgets/controls",
            "_model_module_version": "1.5.0",
            "_model_name": "DescriptionStyleModel",
            "_view_count": null,
            "_view_module": "@jupyter-widgets/base",
            "_view_module_version": "1.2.0",
            "_view_name": "StyleView",
            "description_width": ""
          }
        },
        "ee70aba47f7e4e16b71d7955e28554e3": {
          "model_module": "@jupyter-widgets/base",
          "model_name": "LayoutModel",
          "model_module_version": "1.2.0",
          "state": {
            "_model_module": "@jupyter-widgets/base",
            "_model_module_version": "1.2.0",
            "_model_name": "LayoutModel",
            "_view_count": null,
            "_view_module": "@jupyter-widgets/base",
            "_view_module_version": "1.2.0",
            "_view_name": "LayoutView",
            "align_content": null,
            "align_items": null,
            "align_self": null,
            "border": null,
            "bottom": null,
            "display": null,
            "flex": null,
            "flex_flow": null,
            "grid_area": null,
            "grid_auto_columns": null,
            "grid_auto_flow": null,
            "grid_auto_rows": null,
            "grid_column": null,
            "grid_gap": null,
            "grid_row": null,
            "grid_template_areas": null,
            "grid_template_columns": null,
            "grid_template_rows": null,
            "height": null,
            "justify_content": null,
            "justify_items": null,
            "left": null,
            "margin": null,
            "max_height": null,
            "max_width": null,
            "min_height": null,
            "min_width": null,
            "object_fit": null,
            "object_position": null,
            "order": null,
            "overflow": null,
            "overflow_x": null,
            "overflow_y": null,
            "padding": null,
            "right": null,
            "top": null,
            "visibility": null,
            "width": null
          }
        },
        "daed34aea01f4b94b233e68f6966a6b8": {
          "model_module": "@jupyter-widgets/controls",
          "model_name": "ProgressStyleModel",
          "model_module_version": "1.5.0",
          "state": {
            "_model_module": "@jupyter-widgets/controls",
            "_model_module_version": "1.5.0",
            "_model_name": "ProgressStyleModel",
            "_view_count": null,
            "_view_module": "@jupyter-widgets/base",
            "_view_module_version": "1.2.0",
            "_view_name": "StyleView",
            "bar_color": null,
            "description_width": ""
          }
        },
        "7a9e563668df428ba5694f8f720c7453": {
          "model_module": "@jupyter-widgets/base",
          "model_name": "LayoutModel",
          "model_module_version": "1.2.0",
          "state": {
            "_model_module": "@jupyter-widgets/base",
            "_model_module_version": "1.2.0",
            "_model_name": "LayoutModel",
            "_view_count": null,
            "_view_module": "@jupyter-widgets/base",
            "_view_module_version": "1.2.0",
            "_view_name": "LayoutView",
            "align_content": null,
            "align_items": null,
            "align_self": null,
            "border": null,
            "bottom": null,
            "display": null,
            "flex": null,
            "flex_flow": null,
            "grid_area": null,
            "grid_auto_columns": null,
            "grid_auto_flow": null,
            "grid_auto_rows": null,
            "grid_column": null,
            "grid_gap": null,
            "grid_row": null,
            "grid_template_areas": null,
            "grid_template_columns": null,
            "grid_template_rows": null,
            "height": null,
            "justify_content": null,
            "justify_items": null,
            "left": null,
            "margin": null,
            "max_height": null,
            "max_width": null,
            "min_height": null,
            "min_width": null,
            "object_fit": null,
            "object_position": null,
            "order": null,
            "overflow": null,
            "overflow_x": null,
            "overflow_y": null,
            "padding": null,
            "right": null,
            "top": null,
            "visibility": null,
            "width": null
          }
        },
        "f445f316e9c34dcdbcb95b253f8dfaf7": {
          "model_module": "@jupyter-widgets/controls",
          "model_name": "DescriptionStyleModel",
          "model_module_version": "1.5.0",
          "state": {
            "_model_module": "@jupyter-widgets/controls",
            "_model_module_version": "1.5.0",
            "_model_name": "DescriptionStyleModel",
            "_view_count": null,
            "_view_module": "@jupyter-widgets/base",
            "_view_module_version": "1.2.0",
            "_view_name": "StyleView",
            "description_width": ""
          }
        },
        "46113c5607184433bbc6bb5dc552cd58": {
          "model_module": "@jupyter-widgets/controls",
          "model_name": "HBoxModel",
          "model_module_version": "1.5.0",
          "state": {
            "_dom_classes": [],
            "_model_module": "@jupyter-widgets/controls",
            "_model_module_version": "1.5.0",
            "_model_name": "HBoxModel",
            "_view_count": null,
            "_view_module": "@jupyter-widgets/controls",
            "_view_module_version": "1.5.0",
            "_view_name": "HBoxView",
            "box_style": "",
            "children": [
              "IPY_MODEL_e5c3a2961234405d96d5ef18622f3d2c",
              "IPY_MODEL_4f691a5009b34c138df3f2048e53ce1f",
              "IPY_MODEL_1d196ed48ed145599a739d461392cfcc"
            ],
            "layout": "IPY_MODEL_30d2d192b4794ce69fb65eeb04335ad5"
          }
        },
        "e5c3a2961234405d96d5ef18622f3d2c": {
          "model_module": "@jupyter-widgets/controls",
          "model_name": "HTMLModel",
          "model_module_version": "1.5.0",
          "state": {
            "_dom_classes": [],
            "_model_module": "@jupyter-widgets/controls",
            "_model_module_version": "1.5.0",
            "_model_name": "HTMLModel",
            "_view_count": null,
            "_view_module": "@jupyter-widgets/controls",
            "_view_module_version": "1.5.0",
            "_view_name": "HTMLView",
            "description": "",
            "description_tooltip": null,
            "layout": "IPY_MODEL_94ec67d73aaa43f5b285c3950a4da44e",
            "placeholder": "​",
            "style": "IPY_MODEL_1e6ec37fc0324a2d9923cae08a95d4a8",
            "value": "Generating train examples...:  38%"
          }
        },
        "4f691a5009b34c138df3f2048e53ce1f": {
          "model_module": "@jupyter-widgets/controls",
          "model_name": "FloatProgressModel",
          "model_module_version": "1.5.0",
          "state": {
            "_dom_classes": [],
            "_model_module": "@jupyter-widgets/controls",
            "_model_module_version": "1.5.0",
            "_model_name": "FloatProgressModel",
            "_view_count": null,
            "_view_module": "@jupyter-widgets/controls",
            "_view_module_version": "1.5.0",
            "_view_name": "ProgressView",
            "bar_style": "",
            "description": "",
            "description_tooltip": null,
            "layout": "IPY_MODEL_450c0587bfb54feb86b1da75b17059f9",
            "max": 1000,
            "min": 0,
            "orientation": "horizontal",
            "style": "IPY_MODEL_20c23a14b41541daba170576d357a5d5",
            "value": 1000
          }
        },
        "1d196ed48ed145599a739d461392cfcc": {
          "model_module": "@jupyter-widgets/controls",
          "model_name": "HTMLModel",
          "model_module_version": "1.5.0",
          "state": {
            "_dom_classes": [],
            "_model_module": "@jupyter-widgets/controls",
            "_model_module_version": "1.5.0",
            "_model_name": "HTMLModel",
            "_view_count": null,
            "_view_module": "@jupyter-widgets/controls",
            "_view_module_version": "1.5.0",
            "_view_name": "HTMLView",
            "description": "",
            "description_tooltip": null,
            "layout": "IPY_MODEL_3865508f0d944228a46955c6d03a0d98",
            "placeholder": "​",
            "style": "IPY_MODEL_01f8c09c0fb64293ba67c444abc5852f",
            "value": " 384/1000 [00:00&lt;00:00, 3836.62 examples/s]"
          }
        },
        "30d2d192b4794ce69fb65eeb04335ad5": {
          "model_module": "@jupyter-widgets/base",
          "model_name": "LayoutModel",
          "model_module_version": "1.2.0",
          "state": {
            "_model_module": "@jupyter-widgets/base",
            "_model_module_version": "1.2.0",
            "_model_name": "LayoutModel",
            "_view_count": null,
            "_view_module": "@jupyter-widgets/base",
            "_view_module_version": "1.2.0",
            "_view_name": "LayoutView",
            "align_content": null,
            "align_items": null,
            "align_self": null,
            "border": null,
            "bottom": null,
            "display": null,
            "flex": null,
            "flex_flow": null,
            "grid_area": null,
            "grid_auto_columns": null,
            "grid_auto_flow": null,
            "grid_auto_rows": null,
            "grid_column": null,
            "grid_gap": null,
            "grid_row": null,
            "grid_template_areas": null,
            "grid_template_columns": null,
            "grid_template_rows": null,
            "height": null,
            "justify_content": null,
            "justify_items": null,
            "left": null,
            "margin": null,
            "max_height": null,
            "max_width": null,
            "min_height": null,
            "min_width": null,
            "object_fit": null,
            "object_position": null,
            "order": null,
            "overflow": null,
            "overflow_x": null,
            "overflow_y": null,
            "padding": null,
            "right": null,
            "top": null,
            "visibility": "hidden",
            "width": null
          }
        },
        "94ec67d73aaa43f5b285c3950a4da44e": {
          "model_module": "@jupyter-widgets/base",
          "model_name": "LayoutModel",
          "model_module_version": "1.2.0",
          "state": {
            "_model_module": "@jupyter-widgets/base",
            "_model_module_version": "1.2.0",
            "_model_name": "LayoutModel",
            "_view_count": null,
            "_view_module": "@jupyter-widgets/base",
            "_view_module_version": "1.2.0",
            "_view_name": "LayoutView",
            "align_content": null,
            "align_items": null,
            "align_self": null,
            "border": null,
            "bottom": null,
            "display": null,
            "flex": null,
            "flex_flow": null,
            "grid_area": null,
            "grid_auto_columns": null,
            "grid_auto_flow": null,
            "grid_auto_rows": null,
            "grid_column": null,
            "grid_gap": null,
            "grid_row": null,
            "grid_template_areas": null,
            "grid_template_columns": null,
            "grid_template_rows": null,
            "height": null,
            "justify_content": null,
            "justify_items": null,
            "left": null,
            "margin": null,
            "max_height": null,
            "max_width": null,
            "min_height": null,
            "min_width": null,
            "object_fit": null,
            "object_position": null,
            "order": null,
            "overflow": null,
            "overflow_x": null,
            "overflow_y": null,
            "padding": null,
            "right": null,
            "top": null,
            "visibility": null,
            "width": null
          }
        },
        "1e6ec37fc0324a2d9923cae08a95d4a8": {
          "model_module": "@jupyter-widgets/controls",
          "model_name": "DescriptionStyleModel",
          "model_module_version": "1.5.0",
          "state": {
            "_model_module": "@jupyter-widgets/controls",
            "_model_module_version": "1.5.0",
            "_model_name": "DescriptionStyleModel",
            "_view_count": null,
            "_view_module": "@jupyter-widgets/base",
            "_view_module_version": "1.2.0",
            "_view_name": "StyleView",
            "description_width": ""
          }
        },
        "450c0587bfb54feb86b1da75b17059f9": {
          "model_module": "@jupyter-widgets/base",
          "model_name": "LayoutModel",
          "model_module_version": "1.2.0",
          "state": {
            "_model_module": "@jupyter-widgets/base",
            "_model_module_version": "1.2.0",
            "_model_name": "LayoutModel",
            "_view_count": null,
            "_view_module": "@jupyter-widgets/base",
            "_view_module_version": "1.2.0",
            "_view_name": "LayoutView",
            "align_content": null,
            "align_items": null,
            "align_self": null,
            "border": null,
            "bottom": null,
            "display": null,
            "flex": null,
            "flex_flow": null,
            "grid_area": null,
            "grid_auto_columns": null,
            "grid_auto_flow": null,
            "grid_auto_rows": null,
            "grid_column": null,
            "grid_gap": null,
            "grid_row": null,
            "grid_template_areas": null,
            "grid_template_columns": null,
            "grid_template_rows": null,
            "height": null,
            "justify_content": null,
            "justify_items": null,
            "left": null,
            "margin": null,
            "max_height": null,
            "max_width": null,
            "min_height": null,
            "min_width": null,
            "object_fit": null,
            "object_position": null,
            "order": null,
            "overflow": null,
            "overflow_x": null,
            "overflow_y": null,
            "padding": null,
            "right": null,
            "top": null,
            "visibility": null,
            "width": null
          }
        },
        "20c23a14b41541daba170576d357a5d5": {
          "model_module": "@jupyter-widgets/controls",
          "model_name": "ProgressStyleModel",
          "model_module_version": "1.5.0",
          "state": {
            "_model_module": "@jupyter-widgets/controls",
            "_model_module_version": "1.5.0",
            "_model_name": "ProgressStyleModel",
            "_view_count": null,
            "_view_module": "@jupyter-widgets/base",
            "_view_module_version": "1.2.0",
            "_view_name": "StyleView",
            "bar_color": null,
            "description_width": ""
          }
        },
        "3865508f0d944228a46955c6d03a0d98": {
          "model_module": "@jupyter-widgets/base",
          "model_name": "LayoutModel",
          "model_module_version": "1.2.0",
          "state": {
            "_model_module": "@jupyter-widgets/base",
            "_model_module_version": "1.2.0",
            "_model_name": "LayoutModel",
            "_view_count": null,
            "_view_module": "@jupyter-widgets/base",
            "_view_module_version": "1.2.0",
            "_view_name": "LayoutView",
            "align_content": null,
            "align_items": null,
            "align_self": null,
            "border": null,
            "bottom": null,
            "display": null,
            "flex": null,
            "flex_flow": null,
            "grid_area": null,
            "grid_auto_columns": null,
            "grid_auto_flow": null,
            "grid_auto_rows": null,
            "grid_column": null,
            "grid_gap": null,
            "grid_row": null,
            "grid_template_areas": null,
            "grid_template_columns": null,
            "grid_template_rows": null,
            "height": null,
            "justify_content": null,
            "justify_items": null,
            "left": null,
            "margin": null,
            "max_height": null,
            "max_width": null,
            "min_height": null,
            "min_width": null,
            "object_fit": null,
            "object_position": null,
            "order": null,
            "overflow": null,
            "overflow_x": null,
            "overflow_y": null,
            "padding": null,
            "right": null,
            "top": null,
            "visibility": null,
            "width": null
          }
        },
        "01f8c09c0fb64293ba67c444abc5852f": {
          "model_module": "@jupyter-widgets/controls",
          "model_name": "DescriptionStyleModel",
          "model_module_version": "1.5.0",
          "state": {
            "_model_module": "@jupyter-widgets/controls",
            "_model_module_version": "1.5.0",
            "_model_name": "DescriptionStyleModel",
            "_view_count": null,
            "_view_module": "@jupyter-widgets/base",
            "_view_module_version": "1.2.0",
            "_view_name": "StyleView",
            "description_width": ""
          }
        },
        "5a10d8a3923044729fbae3cefd7c05c8": {
          "model_module": "@jupyter-widgets/controls",
          "model_name": "HBoxModel",
          "model_module_version": "1.5.0",
          "state": {
            "_dom_classes": [],
            "_model_module": "@jupyter-widgets/controls",
            "_model_module_version": "1.5.0",
            "_model_name": "HBoxModel",
            "_view_count": null,
            "_view_module": "@jupyter-widgets/controls",
            "_view_module_version": "1.5.0",
            "_view_name": "HBoxView",
            "box_style": "",
            "children": [
              "IPY_MODEL_7b173afa0b6245a1acca30f7a0a2cf0b",
              "IPY_MODEL_37527bec754c4487b0d5abe7099fc6f8",
              "IPY_MODEL_dbc0b353ddaf4534a38cd2344eda3506"
            ],
            "layout": "IPY_MODEL_ba82b60d7a0e4c52bd02869e1577b9c4"
          }
        },
        "7b173afa0b6245a1acca30f7a0a2cf0b": {
          "model_module": "@jupyter-widgets/controls",
          "model_name": "HTMLModel",
          "model_module_version": "1.5.0",
          "state": {
            "_dom_classes": [],
            "_model_module": "@jupyter-widgets/controls",
            "_model_module_version": "1.5.0",
            "_model_name": "HTMLModel",
            "_view_count": null,
            "_view_module": "@jupyter-widgets/controls",
            "_view_module_version": "1.5.0",
            "_view_name": "HTMLView",
            "description": "",
            "description_tooltip": null,
            "layout": "IPY_MODEL_6ce45301f97f4ca08f2cc2393cbeef51",
            "placeholder": "​",
            "style": "IPY_MODEL_367e89ad208a40bc8a64249759faff92",
            "value": "Shuffling /root/tensorflow_datasets/german_credit_numeric/1.0.0.incompleteYARC8F/german_credit_numeric-train.tfrecord*...:   0%"
          }
        },
        "37527bec754c4487b0d5abe7099fc6f8": {
          "model_module": "@jupyter-widgets/controls",
          "model_name": "FloatProgressModel",
          "model_module_version": "1.5.0",
          "state": {
            "_dom_classes": [],
            "_model_module": "@jupyter-widgets/controls",
            "_model_module_version": "1.5.0",
            "_model_name": "FloatProgressModel",
            "_view_count": null,
            "_view_module": "@jupyter-widgets/controls",
            "_view_module_version": "1.5.0",
            "_view_name": "ProgressView",
            "bar_style": "",
            "description": "",
            "description_tooltip": null,
            "layout": "IPY_MODEL_f1c75e57c0f2499e852a7619165cc590",
            "max": 1000,
            "min": 0,
            "orientation": "horizontal",
            "style": "IPY_MODEL_242308eabd1e4a0bb2c9d63c3762a6ce",
            "value": 1000
          }
        },
        "dbc0b353ddaf4534a38cd2344eda3506": {
          "model_module": "@jupyter-widgets/controls",
          "model_name": "HTMLModel",
          "model_module_version": "1.5.0",
          "state": {
            "_dom_classes": [],
            "_model_module": "@jupyter-widgets/controls",
            "_model_module_version": "1.5.0",
            "_model_name": "HTMLModel",
            "_view_count": null,
            "_view_module": "@jupyter-widgets/controls",
            "_view_module_version": "1.5.0",
            "_view_name": "HTMLView",
            "description": "",
            "description_tooltip": null,
            "layout": "IPY_MODEL_e50d5540ef7841e0b29934482c3e212b",
            "placeholder": "​",
            "style": "IPY_MODEL_4c388f3778f2430d94b4c4a47ba00169",
            "value": " 0/1000 [00:00&lt;?, ? examples/s]"
          }
        },
        "ba82b60d7a0e4c52bd02869e1577b9c4": {
          "model_module": "@jupyter-widgets/base",
          "model_name": "LayoutModel",
          "model_module_version": "1.2.0",
          "state": {
            "_model_module": "@jupyter-widgets/base",
            "_model_module_version": "1.2.0",
            "_model_name": "LayoutModel",
            "_view_count": null,
            "_view_module": "@jupyter-widgets/base",
            "_view_module_version": "1.2.0",
            "_view_name": "LayoutView",
            "align_content": null,
            "align_items": null,
            "align_self": null,
            "border": null,
            "bottom": null,
            "display": null,
            "flex": null,
            "flex_flow": null,
            "grid_area": null,
            "grid_auto_columns": null,
            "grid_auto_flow": null,
            "grid_auto_rows": null,
            "grid_column": null,
            "grid_gap": null,
            "grid_row": null,
            "grid_template_areas": null,
            "grid_template_columns": null,
            "grid_template_rows": null,
            "height": null,
            "justify_content": null,
            "justify_items": null,
            "left": null,
            "margin": null,
            "max_height": null,
            "max_width": null,
            "min_height": null,
            "min_width": null,
            "object_fit": null,
            "object_position": null,
            "order": null,
            "overflow": null,
            "overflow_x": null,
            "overflow_y": null,
            "padding": null,
            "right": null,
            "top": null,
            "visibility": "hidden",
            "width": null
          }
        },
        "6ce45301f97f4ca08f2cc2393cbeef51": {
          "model_module": "@jupyter-widgets/base",
          "model_name": "LayoutModel",
          "model_module_version": "1.2.0",
          "state": {
            "_model_module": "@jupyter-widgets/base",
            "_model_module_version": "1.2.0",
            "_model_name": "LayoutModel",
            "_view_count": null,
            "_view_module": "@jupyter-widgets/base",
            "_view_module_version": "1.2.0",
            "_view_name": "LayoutView",
            "align_content": null,
            "align_items": null,
            "align_self": null,
            "border": null,
            "bottom": null,
            "display": null,
            "flex": null,
            "flex_flow": null,
            "grid_area": null,
            "grid_auto_columns": null,
            "grid_auto_flow": null,
            "grid_auto_rows": null,
            "grid_column": null,
            "grid_gap": null,
            "grid_row": null,
            "grid_template_areas": null,
            "grid_template_columns": null,
            "grid_template_rows": null,
            "height": null,
            "justify_content": null,
            "justify_items": null,
            "left": null,
            "margin": null,
            "max_height": null,
            "max_width": null,
            "min_height": null,
            "min_width": null,
            "object_fit": null,
            "object_position": null,
            "order": null,
            "overflow": null,
            "overflow_x": null,
            "overflow_y": null,
            "padding": null,
            "right": null,
            "top": null,
            "visibility": null,
            "width": null
          }
        },
        "367e89ad208a40bc8a64249759faff92": {
          "model_module": "@jupyter-widgets/controls",
          "model_name": "DescriptionStyleModel",
          "model_module_version": "1.5.0",
          "state": {
            "_model_module": "@jupyter-widgets/controls",
            "_model_module_version": "1.5.0",
            "_model_name": "DescriptionStyleModel",
            "_view_count": null,
            "_view_module": "@jupyter-widgets/base",
            "_view_module_version": "1.2.0",
            "_view_name": "StyleView",
            "description_width": ""
          }
        },
        "f1c75e57c0f2499e852a7619165cc590": {
          "model_module": "@jupyter-widgets/base",
          "model_name": "LayoutModel",
          "model_module_version": "1.2.0",
          "state": {
            "_model_module": "@jupyter-widgets/base",
            "_model_module_version": "1.2.0",
            "_model_name": "LayoutModel",
            "_view_count": null,
            "_view_module": "@jupyter-widgets/base",
            "_view_module_version": "1.2.0",
            "_view_name": "LayoutView",
            "align_content": null,
            "align_items": null,
            "align_self": null,
            "border": null,
            "bottom": null,
            "display": null,
            "flex": null,
            "flex_flow": null,
            "grid_area": null,
            "grid_auto_columns": null,
            "grid_auto_flow": null,
            "grid_auto_rows": null,
            "grid_column": null,
            "grid_gap": null,
            "grid_row": null,
            "grid_template_areas": null,
            "grid_template_columns": null,
            "grid_template_rows": null,
            "height": null,
            "justify_content": null,
            "justify_items": null,
            "left": null,
            "margin": null,
            "max_height": null,
            "max_width": null,
            "min_height": null,
            "min_width": null,
            "object_fit": null,
            "object_position": null,
            "order": null,
            "overflow": null,
            "overflow_x": null,
            "overflow_y": null,
            "padding": null,
            "right": null,
            "top": null,
            "visibility": null,
            "width": null
          }
        },
        "242308eabd1e4a0bb2c9d63c3762a6ce": {
          "model_module": "@jupyter-widgets/controls",
          "model_name": "ProgressStyleModel",
          "model_module_version": "1.5.0",
          "state": {
            "_model_module": "@jupyter-widgets/controls",
            "_model_module_version": "1.5.0",
            "_model_name": "ProgressStyleModel",
            "_view_count": null,
            "_view_module": "@jupyter-widgets/base",
            "_view_module_version": "1.2.0",
            "_view_name": "StyleView",
            "bar_color": null,
            "description_width": ""
          }
        },
        "e50d5540ef7841e0b29934482c3e212b": {
          "model_module": "@jupyter-widgets/base",
          "model_name": "LayoutModel",
          "model_module_version": "1.2.0",
          "state": {
            "_model_module": "@jupyter-widgets/base",
            "_model_module_version": "1.2.0",
            "_model_name": "LayoutModel",
            "_view_count": null,
            "_view_module": "@jupyter-widgets/base",
            "_view_module_version": "1.2.0",
            "_view_name": "LayoutView",
            "align_content": null,
            "align_items": null,
            "align_self": null,
            "border": null,
            "bottom": null,
            "display": null,
            "flex": null,
            "flex_flow": null,
            "grid_area": null,
            "grid_auto_columns": null,
            "grid_auto_flow": null,
            "grid_auto_rows": null,
            "grid_column": null,
            "grid_gap": null,
            "grid_row": null,
            "grid_template_areas": null,
            "grid_template_columns": null,
            "grid_template_rows": null,
            "height": null,
            "justify_content": null,
            "justify_items": null,
            "left": null,
            "margin": null,
            "max_height": null,
            "max_width": null,
            "min_height": null,
            "min_width": null,
            "object_fit": null,
            "object_position": null,
            "order": null,
            "overflow": null,
            "overflow_x": null,
            "overflow_y": null,
            "padding": null,
            "right": null,
            "top": null,
            "visibility": null,
            "width": null
          }
        },
        "4c388f3778f2430d94b4c4a47ba00169": {
          "model_module": "@jupyter-widgets/controls",
          "model_name": "DescriptionStyleModel",
          "model_module_version": "1.5.0",
          "state": {
            "_model_module": "@jupyter-widgets/controls",
            "_model_module_version": "1.5.0",
            "_model_name": "DescriptionStyleModel",
            "_view_count": null,
            "_view_module": "@jupyter-widgets/base",
            "_view_module_version": "1.2.0",
            "_view_name": "StyleView",
            "description_width": ""
          }
        }
      }
    }
  },
  "nbformat": 4,
  "nbformat_minor": 0
}